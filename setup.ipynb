{
 "cells": [
  {
   "cell_type": "code",
   "execution_count": 2,
   "metadata": {},
   "outputs": [
    {
     "name": "stdout",
     "output_type": "stream",
     "text": [
      "Constants saved to constants.json\n"
     ]
    }
   ],
   "source": [
    "#SETUP FOR FINANCE APP\n",
    "#LAST UPDATE: 21-DEC-2024 (Duane Rinehart)\n",
    "#\n",
    "# MODIFY VARIABLES BELOW TO CREATE constants.json FILE, WHICH WILL BE USED BY APPLICATION\n",
    "#\n",
    "\n",
    "import json\n",
    "\n",
    "# Define the file name\n",
    "output_constants_file_name = 'constants.json'\n",
    "\n",
    "# Define your constants as a Python dictionary\n",
    "constants = {\n",
    "    \"HIST_DB_LOCATION\" : \"\", #DEFAULTS TO CURRENT DIRECTORY IF LEFT BLANK\n",
    "    \"HIST_DB_SERVER\" : \"sqlite\",\n",
    "    \"HIST_DB_NAME\" : \"finance.db\",\n",
    "    \"HIST_DB_SCHEMA\" : \"db_schema.sql\",\n",
    "    \"STOCK_EXCEL_INPUT_FILE_PATH\" : \"\", #DEFAULTS TO CURRENT DIRECTORY IF LEFT BLANK\n",
    "    \"STOCK_EXCEL_INPUT_FILE_NAME\" : \"stock_blotter.xlsx\",\n",
    "    \"STOCK_EXCEL_OUTPUT_FILE_PATH\" : \"output\", #DEFAULTS TO CURRENT DIRECTORY [WILL CREATE 'output' FOLDER IF NOT EXISTS]\n",
    "    \"STOCK_EXCEL_OUTPUT_FILE_NAME\" : \"analysis_output.xlsx\"\n",
    "}\n",
    "\n",
    "# Write the constants to a JSON file\n",
    "with open(output_constants_file_name, 'w') as json_file:\n",
    "    json.dump(constants, json_file, indent=4)\n",
    "\n",
    "print(f\"Constants saved to {output_constants_file_name}\")"
   ]
  },
  {
   "cell_type": "code",
   "execution_count": 3,
   "metadata": {},
   "outputs": [
    {
     "name": "stdout",
     "output_type": "stream",
     "text": [
      "Excel file saved to stock_blotter.xlsx\n"
     ]
    }
   ],
   "source": [
    "#LAST UPDATE: 21-DEC-2024 (Duane Rinehart)\n",
    "#\n",
    "# CREATE SAMPLE EXCEL INPUT FILE\n",
    "#\n",
    "\n",
    "import pandas as pd\n",
    "from pathlib import Path\n",
    "\n",
    "# Read excel_file_name from JSON\n",
    "with open(output_constants_file_name, 'r') as json_file:\n",
    "    constants = json.load(json_file)\n",
    "    excel_file_path = constants.get('STOCK_EXCEL_INPUT_FILE_PATH', '')\n",
    "    excel_file_name = constants.get('STOCK_EXCEL_INPUT_FILE_NAME', 'stock_blotter.xlsx')\n",
    "    \n",
    "# Create an Excel file with the given structure and data\n",
    "excel_file_name = Path(excel_file_path, excel_file_name)\n",
    "\n",
    "data = {\n",
    "    'SYMBOL': ['MSFT', 'NVDA', 'F'],\n",
    "    'SHARES': [100, 100, 100],\n",
    "    'UNITARY': [450, 120, 102],\n",
    "    'EXTENDED': [2500, 7500, 240],\n",
    "    'DATE': ['2024-06-01', '2024-06-02', '2024-06-03'],\n",
    "    'BROKER': ['', '', ''],\n",
    "    'EXIT_TARGET': [455, 125, 12],\n",
    "    'INDEX': [1, 2, 3]\n",
    "}\n",
    "\n",
    "# Create a DataFrame\n",
    "df = pd.DataFrame(data)\n",
    "\n",
    "# Write to Excel with a worksheet named 'inputs'\n",
    "with pd.ExcelWriter(excel_file_name) as writer:\n",
    "    df.to_excel(writer, sheet_name='inputs', index=False)\n",
    "\n",
    "print(f\"Excel file saved to {excel_file_name}\")"
   ]
  }
 ],
 "metadata": {
  "kernelspec": {
   "display_name": "finance",
   "language": "python",
   "name": "python3"
  },
  "language_info": {
   "codemirror_mode": {
    "name": "ipython",
    "version": 3
   },
   "file_extension": ".py",
   "mimetype": "text/x-python",
   "name": "python",
   "nbconvert_exporter": "python",
   "pygments_lexer": "ipython3",
   "version": "3.11.5"
  }
 },
 "nbformat": 4,
 "nbformat_minor": 2
}
